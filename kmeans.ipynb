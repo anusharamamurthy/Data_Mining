{
 "cells": [
  {
   "cell_type": "code",
   "execution_count": 465,
   "metadata": {
    "collapsed": true
   },
   "outputs": [],
   "source": [
    "import numpy as np\n",
    "import random as rp\n",
    "import scipy as sp\n",
    "import operator as op\n",
    "import pprint"
   ]
  },
  {
   "cell_type": "code",
   "execution_count": 468,
   "metadata": {
    "collapsed": true
   },
   "outputs": [],
   "source": [
    "blocks= {}"
   ]
  },
  {
   "cell_type": "code",
   "execution_count": 469,
   "metadata": {
    "collapsed": false
   },
   "outputs": [],
   "source": [
    "#find k number of centroid for a list of values\n",
    "#lets try picking k random values from the list\n",
    "#returns centroids\n",
    "def rand_centroids(k,lst):\n",
    "    if(k < len(lst)):\n",
    "        try:\n",
    "            c =  rp.sample(range(0,len(lst)),k)\n",
    "            return c\n",
    "        except Exception, e:\n",
    "            print(e.message)\n",
    "            return None      "
   ]
  },
  {
   "cell_type": "code",
   "execution_count": 470,
   "metadata": {
    "collapsed": false
   },
   "outputs": [],
   "source": [
    "#displays the centroids found\n",
    "#input takes the centroids found and the list of values\n",
    "def display_centroids(c):\n",
    "    if c is not None:\n",
    "        print (\"Centroids are:\")\n",
    "        for e in c:\n",
    "            print(lst[e])"
   ]
  },
  {
   "cell_type": "code",
   "execution_count": 520,
   "metadata": {
    "collapsed": false
   },
   "outputs": [],
   "source": [
    "#measure distance between the centroids and a pair of values\n",
    "def create_blocks(c_index,lst):\n",
    "    \n",
    "    #global list of blocks\n",
    "    global blocks\n",
    "    \n",
    "    #a dictionary with centroid as key and points closest to centroid as values\n",
    "    dcenter = {}\n",
    "    \n",
    "    #euclidean distance between a centroid and datapoint\n",
    "    e_dist = 0\n",
    "    \n",
    "    for datapoint in lst:\n",
    "        #print(\"Datapoint is :\",str(datapoint))\n",
    "        \n",
    "        #for each centroid\n",
    "        for center in c_index:\n",
    "            \n",
    "            cv = lst[center]\n",
    "            #print(\"Center:\",str(cv))\n",
    "            \n",
    "            #euclidean distance\n",
    "            e_dist = euclidean(cv,datapoint)\n",
    "            #print e_dist\n",
    "            \n",
    "            dcenter[center] = e_dist\n",
    "        #print dcenter\n",
    "        \n",
    "        #find the min distance and the center\n",
    "        sorted_dist = sorted(dcenter.items(), key=op.itemgetter(1))\n",
    "        blk = sorted_dist[:1]\n",
    "        print sorted_dist[0][0]\n",
    "            \n",
    "        #if a datapoint is assigned to a block \n",
    "        #it should be removed from the list of available datapoints\n",
    "        \n",
    "        "
   ]
  },
  {
   "cell_type": "code",
   "execution_count": 521,
   "metadata": {
    "collapsed": true
   },
   "outputs": [],
   "source": [
    "def euclidean(cv,datapoint):\n",
    "    r = np.power((cv-datapoint),2)\n",
    "    e_dist = np.sqrt(r.sum())\n",
    "    return e_dist"
   ]
  },
  {
   "cell_type": "code",
   "execution_count": 522,
   "metadata": {
    "collapsed": false
   },
   "outputs": [
    {
     "name": "stdout",
     "output_type": "stream",
     "text": [
      "0\n",
      "0\n",
      "4\n",
      "4\n",
      "4\n",
      "None\n"
     ]
    }
   ],
   "source": [
    "lst=np.array([[2,5],[1,5],[22,55],[42,15],[15,16]])\n",
    "c = rand_centroids(2,lst)\n",
    "#display_centroids(c_v)\n",
    "dist = create_blocks(c,lst)\n",
    "print dist"
   ]
  },
  {
   "cell_type": "code",
   "execution_count": 477,
   "metadata": {
    "collapsed": false
   },
   "outputs": [
    {
     "name": "stdout",
     "output_type": "stream",
     "text": [
      "[40 10]\n",
      "[41 10]\n",
      "[ 20 -40]\n",
      "[0 0]\n",
      "[27 -1]\n",
      "[13 11]\n",
      "[14 11]\n",
      "[ -7 -39]\n",
      "[-27   1]\n",
      "[0 0]\n"
     ]
    }
   ],
   "source": [
    "    for e in c:\n",
    "        #print(\"x1,y1:\"+str(lst[e]))\n",
    "        cv = lst[e]\n",
    "        for points in lst:\n",
    "            #print(\"x2,y2\"+str(l))\n",
    "            print(cv-points)\n",
    "            #e_dist.append((np.power((np.power((cv-points),2)),0.5)))       \n",
    "    #return e_dist"
   ]
  },
  {
   "cell_type": "code",
   "execution_count": null,
   "metadata": {
    "collapsed": true
   },
   "outputs": [],
   "source": [
    "#d_min = np.min(dcenter.values())\n",
    "        #sorted_x = sorted(dcenter.items(), key=op.itemgetter(1))\n",
    "        \n",
    "        #key = str(lst[sorted_x[0][0]])\n",
    "        #value = datapoint\n",
    "        #if key in blocks:\n",
    "            #blocks[key].append(value)\n",
    "        #else:\n",
    "            #blocks[key] = [value]\n",
    "    #pprint.pprint(blocks)\n",
    "        #print(\"Center :\",str(lst[sorted_x[0][0]]),\" dist \",str(sorted_x[0][1]))"
   ]
  },
  {
   "cell_type": "code",
   "execution_count": 587,
   "metadata": {
    "collapsed": false
   },
   "outputs": [
    {
     "name": "stdout",
     "output_type": "stream",
     "text": [
      "{'1': [53, 16, 6], '0': [20, 2, 37]}\n"
     ]
    }
   ],
   "source": [
    "k=3\n",
    "datapoints = np.array([[2,5],[1,5],[22,55],[42,15],[15,16]])\n",
    "centers = {}\n",
    "min_data = np.minimum.reduce(datapoints)\n",
    "max_data = np.maximum.reduce(datapoints)\n",
    "for ndim in range(datapoints.ndim ):\n",
    "    min_data = np.minimum.reduce(datapoints)[ndim]\n",
    "    max_data = np.maximum.reduce(datapoints)[ndim]\n",
    "    centers[str(ndim)]=(rp.sample(range(min_data,max_data),3))\n",
    "return centers"
   ]
  },
  {
   "cell_type": "code",
   "execution_count": 552,
   "metadata": {
    "collapsed": false
   },
   "outputs": [
    {
     "data": {
      "text/plain": [
       "5"
      ]
     },
     "execution_count": 552,
     "metadata": {},
     "output_type": "execute_result"
    }
   ],
   "source": [
    " min_data = np.minimum.reduce(datapoints)[ndim]\n",
    "    max_data = np.maximum.reduce(datapoints)[ndim]\n",
    "    centers[str(ndim)]=(rp.sample(range(min_data,max_data),3))\n",
    "print centers"
   ]
  },
  {
   "cell_type": "code",
   "execution_count": null,
   "metadata": {
    "collapsed": true
   },
   "outputs": [],
   "source": []
  }
 ],
 "metadata": {
  "kernelspec": {
   "display_name": "Python 2",
   "language": "python",
   "name": "python2"
  },
  "language_info": {
   "codemirror_mode": {
    "name": "ipython",
    "version": 2
   },
   "file_extension": ".py",
   "mimetype": "text/x-python",
   "name": "python",
   "nbconvert_exporter": "python",
   "pygments_lexer": "ipython2",
   "version": "2.7.9"
  }
 },
 "nbformat": 4,
 "nbformat_minor": 0
}
